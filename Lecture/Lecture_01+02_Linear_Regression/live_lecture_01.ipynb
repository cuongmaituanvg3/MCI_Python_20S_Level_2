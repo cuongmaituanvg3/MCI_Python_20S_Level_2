{
 "cells": [
  {
   "cell_type": "markdown",
   "metadata": {},
   "source": [
    "![](https://static.javatpoint.com/tutorial/data-science/images/data-science-components2.png)"
   ]
  },
  {
   "cell_type": "markdown",
   "metadata": {},
   "source": [
    "![](https://simplecore-ger.intel.com/techdecoded/wp-content/uploads/sites/11/OmniSci_figure1.jpg)"
   ]
  },
  {
   "cell_type": "markdown",
   "metadata": {},
   "source": [
    "![](https://ilook.asia/publicimages/photos/0_1543070424.png)"
   ]
  },
  {
   "cell_type": "markdown",
   "metadata": {},
   "source": [
    "![](https://static.javatpoint.com/tutorial/ai/images/turing-test-in-ai.png)"
   ]
  },
  {
   "cell_type": "markdown",
   "metadata": {},
   "source": [
    "![](https://data-flair.training/blogs/wp-content/uploads/sites/2/2019/08/Types-of-Machine-Learning-algorithms.jpg)"
   ]
  },
  {
   "cell_type": "markdown",
   "metadata": {},
   "source": [
    "Dataset: features + labels\n",
    "1. Small - medium\n",
    "- Training set --> training: 75% - 80%\n",
    "- Validation: tuning model, trial and error\n",
    "- Testing set --> testing: 20% - 25%\n",
    "2. Big data\n",
    "- Training set: 50% - 50%, 90%-10% \n",
    "- Validation: tuning model, trial and error\n",
    "- Testing set\n",
    "--> Generalization\n",
    "\n",
    "$$y = f(x) = ax + b$$\n",
    "$$y = f(x) = 2x + 3$$\n",
    "$$revenue = 2*\\text{marketing cost} + \\text{1hr cost}$$"
   ]
  },
  {
   "cell_type": "markdown",
   "metadata": {},
   "source": [
    "![](https://miro.medium.com/max/948/1*4G__SV580CxFj78o9yUXuQ.png)"
   ]
  },
  {
   "cell_type": "markdown",
   "metadata": {},
   "source": [
    "![](https://i.pinimg.com/originals/3a/42/97/3a4297c9a348c65f6a37b58ab638ed3d.png)"
   ]
  },
  {
   "cell_type": "markdown",
   "metadata": {},
   "source": [
    "## 1. Linear Regression\n",
    "- Pros:\n",
    "    - Simple\n",
    "    - Explainable\n",
    "- Cons:\n",
    "    - Undefit\n",
    "    - Noise sensitivity"
   ]
  },
  {
   "cell_type": "markdown",
   "metadata": {},
   "source": [
    "![](https://miro.medium.com/max/2584/1*Nf2tTTkALYq6RTMQmhjo1A.png)"
   ]
  },
  {
   "cell_type": "markdown",
   "metadata": {},
   "source": [
    "![](https://hackernoon.com/images/h31rz24si.jpg)"
   ]
  },
  {
   "cell_type": "code",
   "execution_count": null,
   "metadata": {},
   "outputs": [],
   "source": []
  }
 ],
 "metadata": {
  "kernelspec": {
   "display_name": "Python 3",
   "language": "python",
   "name": "python3"
  },
  "language_info": {
   "codemirror_mode": {
    "name": "ipython",
    "version": 3
   },
   "file_extension": ".py",
   "mimetype": "text/x-python",
   "name": "python",
   "nbconvert_exporter": "python",
   "pygments_lexer": "ipython3",
   "version": "3.9.1"
  }
 },
 "nbformat": 4,
 "nbformat_minor": 4
}
